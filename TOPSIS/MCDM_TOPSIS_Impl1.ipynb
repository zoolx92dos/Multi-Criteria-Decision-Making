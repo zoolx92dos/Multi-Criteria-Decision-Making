{
  "nbformat": 4,
  "nbformat_minor": 0,
  "metadata": {
    "colab": {
      "provenance": []
    },
    "kernelspec": {
      "name": "python3",
      "display_name": "Python 3"
    },
    "language_info": {
      "name": "python"
    }
  },
  "cells": [
    {
      "cell_type": "code",
      "execution_count": 1,
      "metadata": {
        "colab": {
          "base_uri": "https://localhost:8080/"
        },
        "id": "NEHeNp1G8V2B",
        "outputId": "e6de667c-4f1c-44fc-bdf2-0baaa15e7d39"
      },
      "outputs": [
        {
          "output_type": "stream",
          "name": "stdout",
          "text": [
            "TOPSIS Scores: [0.53427686 0.30836777 0.69163223 0.53473658 0.40104612]\n",
            "Ranks: [3 4 1 5 2]\n"
          ]
        }
      ],
      "source": [
        "import numpy as np\n",
        "\n",
        "def topsis(matrix, weights, impacts):\n",
        "    # Step 1: Normalize the decision matrix\n",
        "    norm_matrix = matrix / np.sqrt(np.sum(matrix**2, axis=0))\n",
        "\n",
        "    # Step 2: Multiply each column by its weight\n",
        "    weighted_norm = norm_matrix * weights\n",
        "\n",
        "    # Step 3: Find ideal and negative-ideal solutions\n",
        "    ideal = np.where(impacts > 0, np.max(weighted_norm, axis=0), np.min(weighted_norm, axis=0))\n",
        "    neg_ideal = np.where(impacts > 0, np.min(weighted_norm, axis=0), np.max(weighted_norm, axis=0))\n",
        "\n",
        "    # Step 4: Calculate separation measures from ideal and negative-ideal\n",
        "    s_plus = np.sqrt(np.sum((weighted_norm - ideal)**2, axis=1))\n",
        "    s_minus = np.sqrt(np.sum((weighted_norm - neg_ideal)**2, axis=1))\n",
        "\n",
        "    # Step 5: Calculate relative closeness to ideal solution\n",
        "    topsis_scores = s_minus / (s_plus + s_minus)\n",
        "\n",
        "    # Step 6: Rank alternatives\n",
        "    ranks = np.argsort(topsis_scores)[::-1] + 1  # Descending order, 1-based\n",
        "\n",
        "    return topsis_scores, ranks\n",
        "\n",
        "# Example usage\n",
        "matrix = np.array([\n",
        "    [250, 16, 12, 5],\n",
        "    [200, 16, 8, 3],\n",
        "    [300, 32, 16, 4],\n",
        "    [275, 32, 8, 4],\n",
        "    [225, 16, 16, 2]\n",
        "])\n",
        "weights = np.array([0.25, 0.25, 0.25, 0.25])\n",
        "impacts = np.array([-1, 1, 1, 1])  # -1: minimize, +1: maximize\n",
        "\n",
        "scores, ranks = topsis(matrix, weights, impacts)\n",
        "print(\"TOPSIS Scores:\", scores)\n",
        "print(\"Ranks:\", ranks)"
      ]
    },
    {
      "cell_type": "code",
      "source": [],
      "metadata": {
        "id": "U77KhLU98Z6b"
      },
      "execution_count": null,
      "outputs": []
    }
  ]
}